{
 "cells": [
  {
   "cell_type": "markdown",
   "metadata": {},
   "source": [
    "\n",
    "<br>\n",
    "-------------------------------------------------------------------------------<br>\n",
    "Name:        energeticEvaluations<br>\n",
    "Purpose:     Evaluation of energetic impact of HVAC system based on provided static data set<br>\n",
    "Author:      Marcus Vogt<br>\n",
    "Created:     27.11.2021<br>\n",
    "Copyright:   Chair of Sustainable Manufacturing and Life Cycle Engineering, Institute of Machine Tools and Production Technology, Technische UniversitÃ¤t Braunschweig, Langer Kamp 19b, 38106 Braunschweig, Germany<br>\n",
    "Licence:     MIT (see License)<br>\n",
    "-------------------------------------------------------------------------------<br>\n"
   ]
  },
  {
   "cell_type": "code",
   "execution_count": 13,
   "metadata": {},
   "outputs": [],
   "source": [
    "import energeticEvaluations as enEval\n",
    "import os\n",
    "import pandas as pd"
   ]
  },
  {
   "cell_type": "code",
   "execution_count": 14,
   "metadata": {},
   "outputs": [],
   "source": [
    "########### read in data set ############\n",
    "current_dir = os.getcwd()\n",
    "staticResultPath = os.path.join(current_dir, \"data\", \"automateSimulationStaticResults.csv\")\n",
    "dfStaticResults = pd.read_csv(staticResultPath, index_col=0)\n",
    "\n",
    "########### boundary parameters ############\n",
    "consideredLocation = \"OS\" # considered available location without case number e.g. \"OS\"\n",
    "useBoundaryParameters = True\n",
    "if useBoundaryParameters:\n",
    "  maxHumansInAirFlow = 3 # maximum number of humans in air flow zones in room\n",
    "  maxHumansInRoom = 6 # total maximum amount of humans in room\n",
    "  maxWasteHeatRoomW = 3000 # max waste heat in W\n",
    "  roomDewPointDegrees = -50 # dew point temperature in °C\n",
    "  inletDewPointDegrees = -60 # dew point temperature in °C\n",
    "  inletTemperatureDegrees = 20 # inlet temperature in °C\n",
    "  leakagesSuctionVolumeFlowM3H = 100 # volume flow in m^3/h\n",
    "else: # this approach can be used if the boundary conditions below are known\n",
    "  scalingFactorS = 1.1 # scaling factor calculated from necessary air flow\n",
    "  maxMoistureLoad = 0.5 # max. moisture load in kg/s\n",
    "  maxWasteHeatRoomW = 3000  # max waste heat in W"
   ]
  },
  {
   "cell_type": "code",
   "execution_count": 12,
   "metadata": {},
   "outputs": [
    {
     "name": "stdout",
     "output_type": "stream",
     "text": [
      "The scaling factor S is: 0.963, volume flow is: 10597.58 m^3/h, max. moisture load is: 0.0001883 kg/s\n",
      "The final results of the interpolation are:\n",
      "ScalingFactorS                               0.963416\n",
      "LoadScalingFactor                            1.538687\n",
      "electricEnergyKwh                       380007.624359\n",
      "naturalGasEnergyKwh                     511507.165703\n",
      "districtHeatingEnergyKwh                136475.642148\n",
      "volumeFlowMainVentilatorM3H                  2.950864\n",
      "PowerDemandMainVentilator                 7492.109431\n",
      "TemperatureBeforeMainVentilator             296.72828\n",
      "TemperatureAfterMainVentilator             297.377458\n",
      "volumeFlowRegenerationVentilatorM3H          0.884031\n",
      "PowerDemandRegenerationVentilator         1406.339276\n",
      "TemperatureRegenerationHeater              397.735016\n",
      "HeatFlowRegenerationHeater               79981.782181\n",
      "HeatFlowPreCooler/Heater-amb-1            7402.526662\n",
      "TemperaturePreCooler-amb-1                     283.15\n",
      "HeatFlowPreCooler-3-4                       -9.634164\n",
      "TemperaturePreCooler-3-4                   293.696986\n",
      "HeatFlowPreHeater-5-In                   26581.451088\n",
      "TemperaturePreHeater-5-In                  313.674648\n",
      "FluidTemperatureInHeatRecoveryUnit         335.520988\n",
      "TemperatureInPurgeAir                      310.163031\n",
      "DewPointTemperatureDryRoom                   14.16996\n",
      "TemperatureDryRoom                         305.234394\n",
      "DryRoomHeatLoad                                3000.0\n",
      "DryRoomMoistureLoad                          0.001015\n",
      "OutsideRelativeHumidity                      0.800651\n",
      "OutsideTemperatureDegrees                    8.756342\n",
      "Preheating                                 739.323745\n",
      "locationVariant                                 OS-22\n",
      "location                                           OS\n",
      "finalEnergy                            1027990.432211\n",
      "OutsideDewPointTemperatureDegrees            5.514861\n",
      "Name: 3000.0, dtype: object\n"
     ]
    }
   ],
   "source": [
    "########### evaluations ############\n",
    "if useBoundaryParameters:\n",
    "  scalingFactorS, maxMoistureLoad = enEval.boundaryParameters2scalingFactorMoistureLoad(maxHumansInAirFlow= maxHumansInAirFlow,\n",
    "                                                                             maxHumansInRoom=maxHumansInRoom,\n",
    "                                                                             roomDewPointDegrees=roomDewPointDegrees,\n",
    "                                                                             inletDewPointDegrees=inletDewPointDegrees,\n",
    "                                                                             inletTemperatureDegrees=inletTemperatureDegrees,\n",
    "                                                                             leakagesSuctionVolumeFlowM3H=leakagesSuctionVolumeFlowM3H)\n",
    "\n",
    "print(\"The scaling factor S is: {}, volume flow is: {} m^3/h, max. moisture load is: {} kg/s\"\n",
    "    .format(round(scalingFactorS, 3), round(scalingFactorS*11000, 3), round(maxMoistureLoad, 7)))\n",
    "\n",
    "finalResultsOfInterpolation = enEval.interpolateScalingFactorAndInternalLoads(dfStaticResults,\n",
    "                            consideredLocation=consideredLocation, scalingFactorS=scalingFactorS,\n",
    "                            maxWasteHeatRoomW=maxWasteHeatRoomW, maxMoistureLoad=maxMoistureLoad)\n",
    "print(\"The final results of the interpolation are:\")\n",
    "print(finalResultsOfInterpolation)"
   ]
  },
  {
   "cell_type": "code",
   "execution_count": null,
   "metadata": {},
   "outputs": [],
   "source": []
  }
 ],
 "metadata": {
  "kernelspec": {
   "display_name": "Python 3",
   "language": "python",
   "name": "python3"
  },
  "language_info": {
   "codemirror_mode": {
    "name": "ipython",
    "version": 3
   },
   "file_extension": ".py",
   "mimetype": "text/x-python",
   "name": "python",
   "nbconvert_exporter": "python",
   "pygments_lexer": "ipython3",
   "version": "3.8.8"
  }
 },
 "nbformat": 4,
 "nbformat_minor": 2
}
