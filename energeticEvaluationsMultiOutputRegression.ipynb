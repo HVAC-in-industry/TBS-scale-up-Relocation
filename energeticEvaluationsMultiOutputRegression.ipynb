{
 "cells": [
  {
   "cell_type": "markdown",
   "metadata": {},
   "source": [
    "\n",
    "<br>\n",
    "-------------------------------------------------------------------------------<br>\n",
    "Name:        energeticEvaluationsMultiOutputRegression.py<br>\n",
    "Purpose:     Evaluation of energetic impact of HVAC system based on multi-output regression model using the static data set<br>\n",
    "Author:      Marcus Vogt<br>\n",
    "Created:     10.12.2021<br>\n",
    "Copyright:   Chair of Sustainable Manufacturing and Life Cycle Engineering, Institute of Machine Tools and Production Technology, Technische UniversitÃ¤t Braunschweig, Langer Kamp 19b, 38106 Braunschweig, Germany<br>\n",
    "Licence:     MIT (see License)<br>\n",
    "-------------------------------------------------------------------------------<br>\n"
   ]
  },
  {
   "cell_type": "code",
   "execution_count": 15,
   "metadata": {},
   "outputs": [],
   "source": [
    "import energeticEvaluationsMultiOutputRegression as enEvalMulti\n",
    "import os\n",
    "import pandas as pd\n",
    "import numpy as np\n",
    "import helpers.helperFuncs as helperFuncs"
   ]
  },
  {
   "cell_type": "code",
   "execution_count": 18,
   "metadata": {},
   "outputs": [],
   "source": [
    "########### read in data set ############\n",
    "current_dir = os.getcwd()\n",
    "staticResultPath = os.path.join(current_dir, \"data\", \"automateSimulationStaticResults.csv\")\n",
    "dfStaticResults = pd.read_csv(staticResultPath, index_col=0)\n",
    "dfStaticResults = helperFuncs.extendStaticDF(dfStaticResults)\n",
    "\n",
    "########### boundary parameters ############\n",
    "averageOutsideRelativeHumidity = 77.7820776255707  # Todo: Note: With the current best models outside humidity not even needed\n",
    "averageOutsideTemperatureDegrees = 10.7060730593607\n",
    "useBoundaryParameters = False\n",
    "if useBoundaryParameters:\n",
    "  maxHumansInAirFlow = 3  # maximum number of humans in air flow zones in room\n",
    "  maxHumansInRoom = 6  # total maximum amount of humans in room\n",
    "  maxWasteHeatRoomW = 4000  # max waste heat in W\n",
    "  roomDewPointDegrees = -50  # dew point temperature in °C\n",
    "  inletDewPointDegrees = -60  # dew point temperature in °C\n",
    "  inletTemperatureDegrees = 20  # inlet temperature in °C\n",
    "  leakagesSuctionVolumeFlowM3H = 500  # volume flow in m^3/h\n",
    "else: # this approach can be used if the boundary conditions below are known\n",
    "  scalingFactorS = 1.1 # scaling factor calculated from necessary air flow\n",
    "  maxMoistureLoad = 0.5 # max. moisture load in kg/s\n",
    "  maxWasteHeatRoomW = 3000  # max waste heat in W"
   ]
  },
  {
   "cell_type": "code",
   "execution_count": 17,
   "metadata": {},
   "outputs": [
    {
     "name": "stdout",
     "output_type": "stream",
     "text": [
      "The scaling factor S is: 1.1, volume flow is: 12100.0 m^3/h, max. moisture load is: 0.5 kg/s\n",
      "The final results of the interpolation based on multi-output regression model are:\n",
      "{'electricEnergyKwh': 433947.65625, 'naturalGasEnergyKwh': 521295.78125, 'districtHeatingEnergyKwh': 152219.5625}\n",
      "Mean Absolute Error: 16421.670 kWh. Standard deviation: (2597.470) kWh\n"
     ]
    }
   ],
   "source": [
    "########### evaluations ############\n",
    "if useBoundaryParameters:\n",
    "  scalingFactorS, maxMoistureLoad = enEvalMulti.boundaryParameters2scalingFactorMoistureLoad(maxHumansInAirFlow=maxHumansInAirFlow,\n",
    "                                                                             maxHumansInRoom=maxHumansInRoom,\n",
    "                                                                             roomDewPointDegrees=roomDewPointDegrees,\n",
    "                                                                             inletDewPointDegrees=inletDewPointDegrees,\n",
    "                                                                             inletTemperatureDegrees=inletTemperatureDegrees,\n",
    "                                                                             leakagesSuctionVolumeFlowM3H=leakagesSuctionVolumeFlowM3H)\n",
    "\n",
    "print(\"The scaling factor S is: {}, volume flow is: {} m^3/h, max. moisture load is: {} kg/s\"\n",
    "    .format(round(scalingFactorS, 3), round(scalingFactorS*11000, 3), round(maxMoistureLoad, 7)))\n",
    "\n",
    "d, n_scores = enEvalMulti.interpolateScalingFactorAndInternalLoadsMultiOutputRegression(dfStaticResults,\n",
    "                            averageOutsideRelativeHumidity=averageOutsideRelativeHumidity,\n",
    "                            averageOutsideTemperature=averageOutsideTemperatureDegrees, scalingFactorS=scalingFactorS,\n",
    "                            maxWasteHeatRoomW=maxWasteHeatRoomW, maxMoistureLoad=maxMoistureLoad)\n",
    "print(\"The final results of the interpolation based on multi-output regression model are:\")\n",
    "print(d)\n",
    "# summarize performance\n",
    "print(\"Mean Absolute Error: %.3f kWh. Standard deviation: (%.3f) kWh\" % (np.mean(n_scores), np.std(n_scores)))\n",
    "\n"
   ]
  },
  {
   "cell_type": "code",
   "execution_count": null,
   "metadata": {},
   "outputs": [],
   "source": []
  }
 ],
 "metadata": {
  "kernelspec": {
   "display_name": "Python 3",
   "language": "python",
   "name": "python3"
  },
  "language_info": {
   "codemirror_mode": {
    "name": "ipython",
    "version": 3
   },
   "file_extension": ".py",
   "mimetype": "text/x-python",
   "name": "python",
   "nbconvert_exporter": "python",
   "pygments_lexer": "ipython3",
   "version": "3.8.8"
  }
 },
 "nbformat": 4,
 "nbformat_minor": 2
}
